{
  "nbformat": 4,
  "nbformat_minor": 2,
  "metadata": {
    "colab": {
      "name": "Dataset_Generation_p7_T1.ipynb",
      "provenance": [],
      "collapsed_sections": []
    },
    "kernelspec": {
      "name": "python3",
      "display_name": "Python 2.7.18 64-bit (system)"
    },
    "language_info": {
      "mimetype": "text/x-python",
      "nbconvert_exporter": "python",
      "name": "python",
      "pygments_lexer": "ipython2",
      "version": "2.7.18",
      "file_extension": ".py",
      "codemirror_mode": {
        "version": 2,
        "name": "ipython"
      }
    },
    "interpreter": {
      "hash": "5c3b02fa24688d32a1d09351b7f8eac82a87272ad081601c73caead00a8e1fc4"
    }
  },
  "cells": [
    {
      "cell_type": "code",
      "execution_count": 2,
      "source": [
        "from google.colab import drive\r\n",
        "drive.mount('/content/drive')"
      ],
      "outputs": [
        {
          "output_type": "stream",
          "name": "stdout",
          "text": [
            "Mounted at /content/drive\n",
            "Drive already mounted at /content/drive; to attempt to forcibly remount, call drive.mount(\"/content/drive\", force_remount=True).\n"
          ]
        }
      ],
      "metadata": {
        "colab": {
          "base_uri": "https://localhost:8080/"
        },
        "id": "-uRUGoPJ_1-Y",
        "outputId": "dbf44022-0b78-418d-a29b-951d28fe171f"
      }
    },
    {
      "cell_type": "code",
      "execution_count": 4,
      "source": [
        "import os\r\n",
        "import sys\r\n",
        "os.chdir('/content/drive/MyDrive/Colab Notebooks/NLP-Project')"
      ],
      "outputs": [],
      "metadata": {
        "id": "0Qu2wN3eAQUM"
      }
    },
    {
      "cell_type": "code",
      "execution_count": 4,
      "source": [
        "!pip install pandas"
      ],
      "outputs": [
        {
          "output_type": "stream",
          "name": "stdout",
          "text": [
            "Collecting pandas\n",
            "  Using cached pandas-0.24.2-cp27-cp27m-win_amd64.whl (8.3 MB)\n",
            "Collecting pytz>=2011k\n",
            "  Using cached pytz-2021.3-py2.py3-none-any.whl (503 kB)\n",
            "Collecting numpy>=1.12.0\n",
            "  Downloading numpy-1.16.6-cp27-cp27m-win_amd64.whl (11.9 MB)\n",
            "Requirement already satisfied: python-dateutil>=2.5.0 in c:\\python27\\lib\\site-packages (from pandas) (2.8.2)\n",
            "Requirement already satisfied: six>=1.5 in c:\\python27\\lib\\site-packages (from python-dateutil>=2.5.0->pandas) (1.16.0)\n",
            "Installing collected packages: pytz, numpy, pandas\n",
            "Successfully installed numpy-1.16.6 pandas-0.24.2 pytz-2021.3\n"
          ]
        },
        {
          "output_type": "stream",
          "name": "stderr",
          "text": [
            "DEPRECATION: Python 2.7 reached the end of its life on January 1st, 2020. Please upgrade your Python as Python 2.7 is no longer maintained. pip 21.0 will drop support for Python 2.7 in January 2021. More details about Python 2 support in pip can be found at https://pip.pypa.io/en/latest/development/release-process/#python-2-support pip 21.0 will remove support for this functionality.\n"
          ]
        }
      ],
      "metadata": {}
    },
    {
      "cell_type": "code",
      "execution_count": null,
      "source": [
        "import random\r\n",
        "import pandas as pd\r\n",
        "import csv\r\n",
        "\r\n",
        "dataset = []\r\n",
        "for i in range(20000):\r\n",
        "  op1 = (random.randint(1,1000))\r\n",
        "  op2 = (random.randint(1,1000))\r\n",
        "  sum = op1+op2\r\n",
        "  print (\"op1:\",op1,\"op2:\",op2,\"sum:\",sum)\r\n",
        "  row=\"The sum of \"+str(op1)+\" and \"+str(op2)+\" is \"+str(sum)\r\n",
        "  dataset.append(row)\r\n",
        "    \r\n",
        "\r\n"
      ],
      "outputs": [],
      "metadata": {
        "colab": {
          "base_uri": "https://localhost:8080/"
        },
        "id": "OqURsHh7qw3-",
        "outputId": "e18f261f-05f4-41b7-b327-8109cc41adcf"
      }
    },
    {
      "cell_type": "code",
      "execution_count": 20,
      "source": [
        "df_dataset = pd.DataFrame(dataset, columns=[\"text\"])\r\n",
        "df_dataset.head()"
      ],
      "outputs": [
        {
          "output_type": "execute_result",
          "data": {
            "text/html": [
              "<div>\n",
              "<style scoped>\n",
              "    .dataframe tbody tr th:only-of-type {\n",
              "        vertical-align: middle;\n",
              "    }\n",
              "\n",
              "    .dataframe tbody tr th {\n",
              "        vertical-align: top;\n",
              "    }\n",
              "\n",
              "    .dataframe thead th {\n",
              "        text-align: right;\n",
              "    }\n",
              "</style>\n",
              "<table border=\"1\" class=\"dataframe\">\n",
              "  <thead>\n",
              "    <tr style=\"text-align: right;\">\n",
              "      <th></th>\n",
              "      <th>text</th>\n",
              "    </tr>\n",
              "  </thead>\n",
              "  <tbody>\n",
              "    <tr>\n",
              "      <th>0</th>\n",
              "      <td>The sum of 875 and 221 is 1096</td>\n",
              "    </tr>\n",
              "    <tr>\n",
              "      <th>1</th>\n",
              "      <td>The sum of 333 and 27 is 360</td>\n",
              "    </tr>\n",
              "    <tr>\n",
              "      <th>2</th>\n",
              "      <td>The sum of 855 and 728 is 1583</td>\n",
              "    </tr>\n",
              "    <tr>\n",
              "      <th>3</th>\n",
              "      <td>The sum of 735 and 514 is 1249</td>\n",
              "    </tr>\n",
              "    <tr>\n",
              "      <th>4</th>\n",
              "      <td>The sum of 927 and 728 is 1655</td>\n",
              "    </tr>\n",
              "  </tbody>\n",
              "</table>\n",
              "</div>"
            ],
            "text/plain": [
              "                             text\n",
              "0  The sum of 875 and 221 is 1096\n",
              "1    The sum of 333 and 27 is 360\n",
              "2  The sum of 855 and 728 is 1583\n",
              "3  The sum of 735 and 514 is 1249\n",
              "4  The sum of 927 and 728 is 1655"
            ]
          },
          "metadata": {},
          "execution_count": 20
        }
      ],
      "metadata": {
        "colab": {
          "base_uri": "https://localhost:8080/",
          "height": 357
        },
        "id": "I-HlaOfOEQa3",
        "outputId": "efa8ccc5-118c-4a14-b2fa-e6a61c82caa7"
      }
    },
    {
      "cell_type": "code",
      "execution_count": 18,
      "source": [
        "len(df_dataset.text.unique())"
      ],
      "outputs": [
        {
          "output_type": "execute_result",
          "data": {
            "text/plain": [
              "19790"
            ]
          },
          "metadata": {},
          "execution_count": 18
        }
      ],
      "metadata": {}
    },
    {
      "cell_type": "code",
      "execution_count": 23,
      "source": [
        "df_dataset.to_csv('data_p7.csv', index = False, header=None, columns=[\"text\"])"
      ],
      "outputs": [],
      "metadata": {
        "id": "feDT5YX9A3mH"
      }
    },
    {
      "cell_type": "code",
      "execution_count": 24,
      "source": [
        "data_test = pd.read_csv('data_p7.csv')\r\n",
        "data_test.head(10)"
      ],
      "outputs": [
        {
          "output_type": "execute_result",
          "data": {
            "text/html": [
              "<div>\n",
              "<style scoped>\n",
              "    .dataframe tbody tr th:only-of-type {\n",
              "        vertical-align: middle;\n",
              "    }\n",
              "\n",
              "    .dataframe tbody tr th {\n",
              "        vertical-align: top;\n",
              "    }\n",
              "\n",
              "    .dataframe thead th {\n",
              "        text-align: right;\n",
              "    }\n",
              "</style>\n",
              "<table border=\"1\" class=\"dataframe\">\n",
              "  <thead>\n",
              "    <tr style=\"text-align: right;\">\n",
              "      <th></th>\n",
              "      <th>The sum of 875 and 221 is 1096</th>\n",
              "    </tr>\n",
              "  </thead>\n",
              "  <tbody>\n",
              "    <tr>\n",
              "      <th>0</th>\n",
              "      <td>The sum of 333 and 27 is 360</td>\n",
              "    </tr>\n",
              "    <tr>\n",
              "      <th>1</th>\n",
              "      <td>The sum of 855 and 728 is 1583</td>\n",
              "    </tr>\n",
              "    <tr>\n",
              "      <th>2</th>\n",
              "      <td>The sum of 735 and 514 is 1249</td>\n",
              "    </tr>\n",
              "    <tr>\n",
              "      <th>3</th>\n",
              "      <td>The sum of 927 and 728 is 1655</td>\n",
              "    </tr>\n",
              "    <tr>\n",
              "      <th>4</th>\n",
              "      <td>The sum of 310 and 909 is 1219</td>\n",
              "    </tr>\n",
              "    <tr>\n",
              "      <th>5</th>\n",
              "      <td>The sum of 955 and 63 is 1018</td>\n",
              "    </tr>\n",
              "    <tr>\n",
              "      <th>6</th>\n",
              "      <td>The sum of 271 and 240 is 511</td>\n",
              "    </tr>\n",
              "    <tr>\n",
              "      <th>7</th>\n",
              "      <td>The sum of 688 and 925 is 1613</td>\n",
              "    </tr>\n",
              "    <tr>\n",
              "      <th>8</th>\n",
              "      <td>The sum of 566 and 474 is 1040</td>\n",
              "    </tr>\n",
              "    <tr>\n",
              "      <th>9</th>\n",
              "      <td>The sum of 424 and 737 is 1161</td>\n",
              "    </tr>\n",
              "  </tbody>\n",
              "</table>\n",
              "</div>"
            ],
            "text/plain": [
              "   The sum of 875 and 221 is 1096\n",
              "0    The sum of 333 and 27 is 360\n",
              "1  The sum of 855 and 728 is 1583\n",
              "2  The sum of 735 and 514 is 1249\n",
              "3  The sum of 927 and 728 is 1655\n",
              "4  The sum of 310 and 909 is 1219\n",
              "5   The sum of 955 and 63 is 1018\n",
              "6   The sum of 271 and 240 is 511\n",
              "7  The sum of 688 and 925 is 1613\n",
              "8  The sum of 566 and 474 is 1040\n",
              "9  The sum of 424 and 737 is 1161"
            ]
          },
          "metadata": {},
          "execution_count": 24
        }
      ],
      "metadata": {
        "colab": {
          "base_uri": "https://localhost:8080/",
          "height": 357
        },
        "id": "_p2XRMZeEYoJ",
        "outputId": "ed4532b2-dadc-4b65-9cb4-5e2e4259f2e4"
      }
    },
    {
      "cell_type": "code",
      "execution_count": null,
      "source": [],
      "outputs": [],
      "metadata": {
        "id": "3wwjoLaWEqSY"
      }
    }
  ]
}