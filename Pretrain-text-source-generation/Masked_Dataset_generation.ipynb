{
  "nbformat": 4,
  "nbformat_minor": 2,
  "metadata": {
    "colab": {
      "name": "Masked_Dataset_generation.ipynb",
      "provenance": [],
      "collapsed_sections": []
    },
    "kernelspec": {
      "name": "python3",
      "display_name": "Python 2.7.18 64-bit (system)"
    },
    "language_info": {
      "mimetype": "text/x-python",
      "nbconvert_exporter": "python",
      "name": "python",
      "pygments_lexer": "ipython2",
      "version": "2.7.18",
      "file_extension": ".py",
      "codemirror_mode": {
        "version": 2,
        "name": "ipython"
      }
    },
    "interpreter": {
      "hash": "5c3b02fa24688d32a1d09351b7f8eac82a87272ad081601c73caead00a8e1fc4"
    }
  },
  "cells": [
    {
      "cell_type": "code",
      "execution_count": null,
      "source": [
        "from google.colab import drive\r\n",
        "drive.mount('/content/drive')"
      ],
      "outputs": [],
      "metadata": {
        "colab": {
          "base_uri": "https://localhost:8080/"
        },
        "id": "Bg_abPMgKW12",
        "outputId": "ad38e71a-f84b-427d-b319-58cf1fcae7c4"
      }
    },
    {
      "cell_type": "code",
      "execution_count": 110,
      "source": [
        "import os\r\n",
        "import sys\r\n",
        "os.chdir('D:\\MSCS\\First_Sem\\CSE546_Nlp\\Final_Project\\NLP-CSE576_Project')"
      ],
      "outputs": [],
      "metadata": {
        "id": "JPLgjToJVOBs"
      }
    },
    {
      "cell_type": "code",
      "execution_count": 207,
      "source": [
        "masked_sentences = []\r\n",
        "targets = []"
      ],
      "outputs": [],
      "metadata": {}
    },
    {
      "cell_type": "code",
      "execution_count": 208,
      "source": [
        "def mask_sentence(num_digits):\r\n",
        "    f_in = open(\"Pretrain-text-source-generation\\data_p7.csv\", \"r\")\r\n",
        "    line = f_in.readline()\r\n",
        "\r\n",
        "    while(line):\r\n",
        "        without_mask = [(line.index(num), num) for num in line.split() if num.isdigit()]\r\n",
        "        randomlist = random.sample(range(0, len(without_mask)), 2)\r\n",
        "        for i in randomlist:\r\n",
        "            masking_input = without_mask[i][1]\r\n",
        "            n = len(masking_input)\r\n",
        "            start_index = list(masking_input[0:n-num_digits])\r\n",
        "\r\n",
        "            if len(start_index) < 1:\r\n",
        "                continue\r\n",
        "            rand_start_index = random.sample(range(0, len(start_index)), 1)[0]\r\n",
        "            mask_start_index = without_mask[i][0]+rand_start_index\r\n",
        "            target = line[mask_start_index:mask_start_index+num_digits]\r\n",
        "            with_mask = line[:mask_start_index] + \"<extra_id_0>\" + line[mask_start_index+num_digits:]\r\n",
        "            masked_sentences.append(with_mask.rstrip())\r\n",
        "            targets.append(target)\r\n",
        "\r\n",
        "        line = f_in.readline()\r\n",
        "f_in.close()\r\n",
        "\r\n",
        "     "
      ],
      "outputs": [],
      "metadata": {}
    },
    {
      "cell_type": "code",
      "execution_count": 209,
      "source": [
        "mask_sentence(1)\r\n",
        "mask_sentence(2)"
      ],
      "outputs": [],
      "metadata": {}
    },
    {
      "cell_type": "code",
      "execution_count": 210,
      "source": [
        "df_dataset = pd.DataFrame([(a, b) for a, b in zip(masked_sentences,targets)], columns=[\"text\", \"targets\"])\r\n",
        "df_dataset.head()"
      ],
      "outputs": [
        {
          "output_type": "execute_result",
          "data": {
            "text/html": [
              "<div>\n",
              "<style scoped>\n",
              "    .dataframe tbody tr th:only-of-type {\n",
              "        vertical-align: middle;\n",
              "    }\n",
              "\n",
              "    .dataframe tbody tr th {\n",
              "        vertical-align: top;\n",
              "    }\n",
              "\n",
              "    .dataframe thead th {\n",
              "        text-align: right;\n",
              "    }\n",
              "</style>\n",
              "<table border=\"1\" class=\"dataframe\">\n",
              "  <thead>\n",
              "    <tr style=\"text-align: right;\">\n",
              "      <th></th>\n",
              "      <th>text</th>\n",
              "      <th>targets</th>\n",
              "    </tr>\n",
              "  </thead>\n",
              "  <tbody>\n",
              "    <tr>\n",
              "      <th>0</th>\n",
              "      <td>The sum of 875 and &lt;extra_id_0&gt;21 is 1096</td>\n",
              "      <td>2</td>\n",
              "    </tr>\n",
              "    <tr>\n",
              "      <th>1</th>\n",
              "      <td>The sum of 875 and 221 is &lt;extra_id_0&gt;096</td>\n",
              "      <td>1</td>\n",
              "    </tr>\n",
              "    <tr>\n",
              "      <th>2</th>\n",
              "      <td>The sum of &lt;extra_id_0&gt;33 and 27 is 360</td>\n",
              "      <td>3</td>\n",
              "    </tr>\n",
              "    <tr>\n",
              "      <th>3</th>\n",
              "      <td>The sum of 333 and &lt;extra_id_0&gt;7 is 360</td>\n",
              "      <td>2</td>\n",
              "    </tr>\n",
              "    <tr>\n",
              "      <th>4</th>\n",
              "      <td>The sum of 855 and 7&lt;extra_id_0&gt;8 is 1583</td>\n",
              "      <td>2</td>\n",
              "    </tr>\n",
              "  </tbody>\n",
              "</table>\n",
              "</div>"
            ],
            "text/plain": [
              "                                        text targets\n",
              "0  The sum of 875 and <extra_id_0>21 is 1096       2\n",
              "1  The sum of 875 and 221 is <extra_id_0>096       1\n",
              "2    The sum of <extra_id_0>33 and 27 is 360       3\n",
              "3    The sum of 333 and <extra_id_0>7 is 360       2\n",
              "4  The sum of 855 and 7<extra_id_0>8 is 1583       2"
            ]
          },
          "metadata": {},
          "execution_count": 210
        }
      ],
      "metadata": {}
    },
    {
      "cell_type": "code",
      "execution_count": 211,
      "source": [
        "df_dataset.drop_duplicates(subset=['text'], inplace=True)"
      ],
      "outputs": [],
      "metadata": {}
    },
    {
      "cell_type": "code",
      "execution_count": 212,
      "source": [
        "df_dataset.to_csv('Pretrain-text-source-generation\\dataset.csv', index = False, header=None, columns=[\"text\",\"targets\"])"
      ],
      "outputs": [],
      "metadata": {
        "id": "682B6rwOKYa3"
      }
    }
  ]
}