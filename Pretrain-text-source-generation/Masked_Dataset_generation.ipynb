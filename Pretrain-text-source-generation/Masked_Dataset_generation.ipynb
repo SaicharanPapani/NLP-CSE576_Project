{
 "cells": [
  {
   "cell_type": "code",
   "execution_count": 50,
   "metadata": {
    "colab": {
     "base_uri": "https://localhost:8080/"
    },
    "id": "Bg_abPMgKW12",
    "outputId": "ad38e71a-f84b-427d-b319-58cf1fcae7c4"
   },
   "outputs": [],
   "source": [
    "# enable this if you are running in colab\n",
    "# from google.colab import drive\n",
    "# drive.mount('/content/drive')"
   ]
  },
  {
   "cell_type": "code",
   "execution_count": 51,
   "metadata": {
    "id": "JPLgjToJVOBs"
   },
   "outputs": [],
   "source": [
    "import os\n",
    "import sys\n",
    "import random\n",
    "import pandas as pd\n",
    "# os.chdir('D:\\MSCS\\First_Sem\\CSE546_Nlp\\Final_Project\\NLP-CSE576_Project')"
   ]
  },
  {
   "cell_type": "code",
   "execution_count": 52,
   "metadata": {},
   "outputs": [],
   "source": [
    "masked_sentences = []\n",
    "targets = []"
   ]
  },
  {
   "cell_type": "code",
   "execution_count": 53,
   "metadata": {},
   "outputs": [],
   "source": [
    "def mask_sentence(num_digits):\n",
    "    # open file\n",
    "    # f_in = open(\"Pretrain-text-source-generation\\data_p7.csv\", \"r\")\n",
    "    f_in = open(\"data_p7.csv\", \"r\")\n",
    "    # read line\n",
    "    line = f_in.readline()\n",
    "    while(line):\n",
    "        # pulling out numbers with repective indexes as tuples\n",
    "        without_mask = [(line.index(num), num) for num in line.split() if num.isdigit()]\n",
    "        # pull out random 2 value from above list\n",
    "        for i in random.sample(range(len(without_mask)), 2):\n",
    "            # index, number\n",
    "            index, masking_input = without_mask[i]\n",
    "            # length of number\n",
    "            n = len(masking_input)\n",
    "            # skipping -num_digits digits from end and convert the remaining into list\n",
    "            arr_start_indexes = list(masking_input[:n-num_digits])\n",
    "            # We need atleast one value in the number apart from mask ---\n",
    "            if len(arr_start_indexes) < 1:\n",
    "                continue\n",
    "            # Random start index from arr_start_indexes\n",
    "            rand_start_index = random.choice(range(len(arr_start_indexes)))\n",
    "            # converting rand_start_index in terms of line index\n",
    "            mask_start_index = index + rand_start_index\n",
    "            # stored the target - masked value\n",
    "            target = line[mask_start_index:mask_start_index+num_digits]\n",
    "            # insert mask in the sentence\n",
    "            with_mask = line[:mask_start_index] + \"<extra_id_0>\" + line[mask_start_index+num_digits:]\n",
    "            # store the masked sentence as label\n",
    "            masked_sentences.append(with_mask.rstrip())\n",
    "            # masked value as target\n",
    "            targets.append(target)\n",
    "        # read next line\n",
    "        line = f_in.readline()\n",
    "    # close file\n",
    "    f_in.close()\n",
    "\n",
    "     "
   ]
  },
  {
   "cell_type": "code",
   "execution_count": 58,
   "metadata": {},
   "outputs": [],
   "source": [
    "# mask one digit\n",
    "mask_sentence(1)\n",
    "# mask two digits\n",
    "mask_sentence(2)"
   ]
  },
  {
   "cell_type": "code",
   "execution_count": 59,
   "metadata": {},
   "outputs": [
    {
     "data": {
      "text/html": [
       "<div>\n",
       "<style scoped>\n",
       "    .dataframe tbody tr th:only-of-type {\n",
       "        vertical-align: middle;\n",
       "    }\n",
       "\n",
       "    .dataframe tbody tr th {\n",
       "        vertical-align: top;\n",
       "    }\n",
       "\n",
       "    .dataframe thead th {\n",
       "        text-align: right;\n",
       "    }\n",
       "</style>\n",
       "<table border=\"1\" class=\"dataframe\">\n",
       "  <thead>\n",
       "    <tr style=\"text-align: right;\">\n",
       "      <th></th>\n",
       "      <th>text</th>\n",
       "      <th>targets</th>\n",
       "    </tr>\n",
       "  </thead>\n",
       "  <tbody>\n",
       "    <tr>\n",
       "      <th>0</th>\n",
       "      <td>The sum of 875 and 2&lt;extra_id_0&gt;1 is 1096</td>\n",
       "      <td>2</td>\n",
       "    </tr>\n",
       "    <tr>\n",
       "      <th>1</th>\n",
       "      <td>The sum of &lt;extra_id_0&gt;75 and 221 is 1096</td>\n",
       "      <td>8</td>\n",
       "    </tr>\n",
       "    <tr>\n",
       "      <th>2</th>\n",
       "      <td>The sum of 333 and &lt;extra_id_0&gt;7 is 360</td>\n",
       "      <td>2</td>\n",
       "    </tr>\n",
       "    <tr>\n",
       "      <th>3</th>\n",
       "      <td>The sum of 3&lt;extra_id_0&gt;3 and 27 is 360</td>\n",
       "      <td>3</td>\n",
       "    </tr>\n",
       "    <tr>\n",
       "      <th>4</th>\n",
       "      <td>The sum of 8&lt;extra_id_0&gt;5 and 728 is 1583</td>\n",
       "      <td>5</td>\n",
       "    </tr>\n",
       "  </tbody>\n",
       "</table>\n",
       "</div>"
      ],
      "text/plain": [
       "                                        text targets\n",
       "0  The sum of 875 and 2<extra_id_0>1 is 1096       2\n",
       "1  The sum of <extra_id_0>75 and 221 is 1096       8\n",
       "2    The sum of 333 and <extra_id_0>7 is 360       2\n",
       "3    The sum of 3<extra_id_0>3 and 27 is 360       3\n",
       "4  The sum of 8<extra_id_0>5 and 728 is 1583       5"
      ]
     },
     "execution_count": 59,
     "metadata": {},
     "output_type": "execute_result"
    }
   ],
   "source": [
    "df_dataset = pd.DataFrame([(a, b) for a, b in zip(masked_sentences,targets)], columns=[\"text\", \"targets\"])\n",
    "df_dataset.head()"
   ]
  },
  {
   "cell_type": "code",
   "execution_count": 60,
   "metadata": {},
   "outputs": [],
   "source": [
    "df_dataset.drop_duplicates(subset=['text'], inplace=True)"
   ]
  },
  {
   "cell_type": "code",
   "execution_count": 61,
   "metadata": {
    "id": "682B6rwOKYa3"
   },
   "outputs": [],
   "source": [
    "df_dataset.to_csv('dataset.csv', index = False, header=None, columns=[\"text\",\"targets\"])"
   ]
  },
  {
   "cell_type": "code",
   "execution_count": null,
   "metadata": {},
   "outputs": [],
   "source": []
  }
 ],
 "metadata": {
  "colab": {
   "collapsed_sections": [],
   "name": "Masked_Dataset_generation.ipynb",
   "provenance": []
  },
  "interpreter": {
   "hash": "5c3b02fa24688d32a1d09351b7f8eac82a87272ad081601c73caead00a8e1fc4"
  },
  "kernelspec": {
   "display_name": "Python 3",
   "language": "python",
   "name": "python3"
  },
  "language_info": {
   "codemirror_mode": {
    "name": "ipython",
    "version": 3
   },
   "file_extension": ".py",
   "mimetype": "text/x-python",
   "name": "python",
   "nbconvert_exporter": "python",
   "pygments_lexer": "ipython3",
   "version": "3.8.8"
  }
 },
 "nbformat": 4,
 "nbformat_minor": 2
}
