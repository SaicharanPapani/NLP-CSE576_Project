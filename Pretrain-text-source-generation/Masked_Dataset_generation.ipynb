{
  "nbformat": 4,
  "nbformat_minor": 0,
  "metadata": {
    "colab": {
      "name": "Masked_Dataset_generation.ipynb",
      "provenance": [],
      "collapsed_sections": []
    },
    "kernelspec": {
      "name": "python3",
      "display_name": "Python 3"
    },
    "language_info": {
      "name": "python"
    }
  },
  "cells": [
    {
      "cell_type": "code",
      "metadata": {
        "colab": {
          "base_uri": "https://localhost:8080/"
        },
        "id": "Bg_abPMgKW12",
        "outputId": "ad38e71a-f84b-427d-b319-58cf1fcae7c4"
      },
      "source": [
        "from google.colab import drive\n",
        "drive.mount('/content/drive')"
      ],
      "execution_count": 1,
      "outputs": [
        {
          "output_type": "stream",
          "name": "stdout",
          "text": [
            "Mounted at /content/drive\n"
          ]
        }
      ]
    },
    {
      "cell_type": "code",
      "metadata": {
        "id": "JPLgjToJVOBs"
      },
      "source": [
        "import os\n",
        "import sys\n",
        "os.chdir('/content/drive/MyDrive/NLP-Project')"
      ],
      "execution_count": 3,
      "outputs": []
    },
    {
      "cell_type": "code",
      "metadata": {
        "id": "0iCVB8yDVZFR"
      },
      "source": [
        "import random\n",
        "import pandas as pd\n",
        "import csv \n",
        "\n",
        "f = open(\"/content/drive/MyDrive/NLP-Project/data_p7.csv\", \"w\")\n",
        "writer = csv.writer(f)\n",
        "for i in range(20000):\n",
        "  op1 = (random.randint(1,1000))\n",
        "  op2 = (random.randint(1,1000))\n",
        "  sum = op1+op2\n",
        "  row=\"The sum of \"+str(op1)+\" and \"+str(op2)+\" is \"+str(sum)\n",
        "  l = []\n",
        "  l.append(row)\n",
        "  writer.writerow(l)\n",
        "f.close()"
      ],
      "execution_count": 8,
      "outputs": []
    },
    {
      "cell_type": "code",
      "metadata": {
        "id": "QfncGh1HLiZV"
      },
      "source": [
        "f_in = open(\"/content/drive/MyDrive/NLP-Project/data_p7.csv\", \"r\")\n",
        "f_out = open(\"/content/drive/MyDrive/NLP-Project/dataset.csv\", \"w\")\n",
        "line = f_in.readline()\n",
        "while(line):\n",
        "  without_mask = [(i, c) for i, c in enumerate(line) if c.isdigit()]\n",
        "  with_mask = \"\"\n",
        "  randomlist = random.sample(range(0, len(without_mask)), 2)\n",
        "  op1 = without_mask[randomlist[0]]\n",
        "  op2 = without_mask[randomlist[1]]\n",
        "  for x,i in enumerate([op1,op2]):\n",
        "    with_mask = line[:i[0]] + \"<mask>\" + line[i[0]+1:]\n",
        "    f_out.writelines(with_mask)\n",
        "  line = f_in.readline()\n",
        "f_in.close()\n",
        "f_out.close()"
      ],
      "execution_count": 9,
      "outputs": []
    },
    {
      "cell_type": "code",
      "metadata": {
        "id": "hUKQRzM7KYge",
        "colab": {
          "base_uri": "https://localhost:8080/",
          "height": 204
        },
        "outputId": "7e672793-d047-4566-a06b-92de5ad50b59"
      },
      "source": [
        "df = pd.read_csv(\"/content/drive/MyDrive/NLP-Project/dataset.csv\")\n",
        "df.head()"
      ],
      "execution_count": 10,
      "outputs": [
        {
          "output_type": "execute_result",
          "data": {
            "text/html": [
              "<div>\n",
              "<style scoped>\n",
              "    .dataframe tbody tr th:only-of-type {\n",
              "        vertical-align: middle;\n",
              "    }\n",
              "\n",
              "    .dataframe tbody tr th {\n",
              "        vertical-align: top;\n",
              "    }\n",
              "\n",
              "    .dataframe thead th {\n",
              "        text-align: right;\n",
              "    }\n",
              "</style>\n",
              "<table border=\"1\" class=\"dataframe\">\n",
              "  <thead>\n",
              "    <tr style=\"text-align: right;\">\n",
              "      <th></th>\n",
              "      <th>The sum of 261 and &lt;mask&gt;1 is 332</th>\n",
              "    </tr>\n",
              "  </thead>\n",
              "  <tbody>\n",
              "    <tr>\n",
              "      <th>0</th>\n",
              "      <td>The sum of 261 and 7&lt;mask&gt; is 332</td>\n",
              "    </tr>\n",
              "    <tr>\n",
              "      <th>1</th>\n",
              "      <td>The sum of 457 and 51 is 50&lt;mask&gt;</td>\n",
              "    </tr>\n",
              "    <tr>\n",
              "      <th>2</th>\n",
              "      <td>The sum of 457 and &lt;mask&gt;1 is 508</td>\n",
              "    </tr>\n",
              "    <tr>\n",
              "      <th>3</th>\n",
              "      <td>The sum of &lt;mask&gt;98 and 959 is 1157</td>\n",
              "    </tr>\n",
              "    <tr>\n",
              "      <th>4</th>\n",
              "      <td>The sum of 19&lt;mask&gt; and 959 is 1157</td>\n",
              "    </tr>\n",
              "  </tbody>\n",
              "</table>\n",
              "</div>"
            ],
            "text/plain": [
              "     The sum of 261 and <mask>1 is 332\n",
              "0    The sum of 261 and 7<mask> is 332\n",
              "1    The sum of 457 and 51 is 50<mask>\n",
              "2    The sum of 457 and <mask>1 is 508\n",
              "3  The sum of <mask>98 and 959 is 1157\n",
              "4  The sum of 19<mask> and 959 is 1157"
            ]
          },
          "metadata": {},
          "execution_count": 10
        }
      ]
    },
    {
      "cell_type": "code",
      "metadata": {
        "id": "tf1v4Ml2KYdr"
      },
      "source": [
        ""
      ],
      "execution_count": null,
      "outputs": []
    },
    {
      "cell_type": "code",
      "metadata": {
        "id": "682B6rwOKYa3"
      },
      "source": [
        ""
      ],
      "execution_count": null,
      "outputs": []
    }
  ]
}